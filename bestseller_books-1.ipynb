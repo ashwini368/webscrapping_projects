{
 "cells": [
  {
   "cell_type": "code",
   "execution_count": 3,
   "metadata": {},
   "outputs": [],
   "source": [
    "import requests\n",
    "from bs4 import BeautifulSoup\n",
    "url=\"https://www.bookdepository.com/bestsellers?page=1\"\n",
    "page=requests.get(url)\n",
    "soup=BeautifulSoup(page.content,'html5lib')\n",
    "#soup"
   ]
  },
  {
   "cell_type": "code",
   "execution_count": 4,
   "metadata": {},
   "outputs": [
    {
     "data": {
      "text/plain": [
       "30"
      ]
     },
     "execution_count": 4,
     "metadata": {},
     "output_type": "execute_result"
    }
   ],
   "source": [
    "all_books=soup.find_all(class_=\"book-item\")\n",
    "len(all_books)"
   ]
  },
  {
   "cell_type": "code",
   "execution_count": 5,
   "metadata": {},
   "outputs": [],
   "source": [
    "first=all_books[0]\n",
    "#first"
   ]
  },
  {
   "cell_type": "code",
   "execution_count": 6,
   "metadata": {},
   "outputs": [
    {
     "data": {
      "text/plain": [
       "'Shadow and Bone'"
      ]
     },
     "execution_count": 6,
     "metadata": {},
     "output_type": "execute_result"
    }
   ],
   "source": [
    "ft=first.find(class_=\"title\").get_text().strip()\n",
    "ft"
   ]
  },
  {
   "cell_type": "code",
   "execution_count": 7,
   "metadata": {},
   "outputs": [
    {
     "data": {
      "text/plain": [
       "'Leigh Bardugo'"
      ]
     },
     "execution_count": 7,
     "metadata": {},
     "output_type": "execute_result"
    }
   ],
   "source": [
    "fauth=first.find(class_=\"author\").get_text().strip()\n",
    "fauth"
   ]
  },
  {
   "cell_type": "code",
   "execution_count": 17,
   "metadata": {},
   "outputs": [
    {
     "data": {
      "text/plain": [
       "'761.35'"
      ]
     },
     "execution_count": 17,
     "metadata": {},
     "output_type": "execute_result"
    }
   ],
   "source": [
    "fp=first.find(class_=\"price-wrap\").get_text().strip().split('\\n')[0].lstrip('₹')\n",
    "fp"
   ]
  },
  {
   "cell_type": "code",
   "execution_count": 8,
   "metadata": {},
   "outputs": [
    {
     "data": {
      "text/plain": [
       "(30, 30, 30)"
      ]
     },
     "execution_count": 8,
     "metadata": {},
     "output_type": "execute_result"
    }
   ],
   "source": [
    "titles,authors,prices=[],[],[]\n",
    "for f in all_books:\n",
    "    titles.append(f.find(class_=\"title\").get_text().strip())\n",
    "    authors.append(f.find(class_=\"author\").get_text().strip())\n",
    "    prices.append(f.find(class_=\"price-wrap\").get_text().strip().split('\\n')[0].lstrip('₹'))\n",
    "len(titles),len(authors),len(prices)"
   ]
  },
  {
   "cell_type": "code",
   "execution_count": 14,
   "metadata": {},
   "outputs": [
    {
     "data": {
      "text/html": [
       "<div>\n",
       "<style scoped>\n",
       "    .dataframe tbody tr th:only-of-type {\n",
       "        vertical-align: middle;\n",
       "    }\n",
       "\n",
       "    .dataframe tbody tr th {\n",
       "        vertical-align: top;\n",
       "    }\n",
       "\n",
       "    .dataframe thead th {\n",
       "        text-align: right;\n",
       "    }\n",
       "</style>\n",
       "<table border=\"1\" class=\"dataframe\">\n",
       "  <thead>\n",
       "    <tr style=\"text-align: right;\">\n",
       "      <th></th>\n",
       "      <th>titles</th>\n",
       "      <th>authors</th>\n",
       "      <th>prices</th>\n",
       "    </tr>\n",
       "  </thead>\n",
       "  <tbody>\n",
       "    <tr>\n",
       "      <th>0</th>\n",
       "      <td>Shadow and Bone</td>\n",
       "      <td>Leigh Bardugo</td>\n",
       "      <td>697.55</td>\n",
       "    </tr>\n",
       "    <tr>\n",
       "      <th>1</th>\n",
       "      <td>The Midnight Library</td>\n",
       "      <td>Matt Haig</td>\n",
       "      <td>751.91</td>\n",
       "    </tr>\n",
       "    <tr>\n",
       "      <th>2</th>\n",
       "      <td>Shadow and Bone: Siege and Storm</td>\n",
       "      <td>Leigh Bardugo</td>\n",
       "      <td>847.75</td>\n",
       "    </tr>\n",
       "    <tr>\n",
       "      <th>3</th>\n",
       "      <td>Shadow and Bone: Ruin and Rising</td>\n",
       "      <td>Leigh Bardugo</td>\n",
       "      <td>844.54</td>\n",
       "    </tr>\n",
       "    <tr>\n",
       "      <th>4</th>\n",
       "      <td>Crooked Kingdom Collector's Edition</td>\n",
       "      <td>Leigh Bardugo</td>\n",
       "      <td>1,711.07</td>\n",
       "    </tr>\n",
       "    <tr>\n",
       "      <th>5</th>\n",
       "      <td>The Seven Husbands of Evelyn Hugo</td>\n",
       "      <td>TAYLOR JENKINS REID</td>\n",
       "      <td>809.90</td>\n",
       "    </tr>\n",
       "    <tr>\n",
       "      <th>6</th>\n",
       "      <td>Where the Crawdads Sing</td>\n",
       "      <td>Delia Owens</td>\n",
       "      <td>772.86</td>\n",
       "    </tr>\n",
       "    <tr>\n",
       "      <th>7</th>\n",
       "      <td>Surrounded by Idiots</td>\n",
       "      <td>Thomas Erikson</td>\n",
       "      <td>921.36</td>\n",
       "    </tr>\n",
       "    <tr>\n",
       "      <th>8</th>\n",
       "      <td>Heartstopper Volume Four</td>\n",
       "      <td>ALICE OSEMAN</td>\n",
       "      <td>1,139.11</td>\n",
       "    </tr>\n",
       "    <tr>\n",
       "      <th>9</th>\n",
       "      <td>They Both Die at the End</td>\n",
       "      <td>Adam Silvera</td>\n",
       "      <td>804.54</td>\n",
       "    </tr>\n",
       "    <tr>\n",
       "      <th>10</th>\n",
       "      <td>Jujutsu Kaisen 0</td>\n",
       "      <td>Gege Akutami</td>\n",
       "      <td>660.85</td>\n",
       "    </tr>\n",
       "    <tr>\n",
       "      <th>11</th>\n",
       "      <td>What Happened to You?</td>\n",
       "      <td>Oprah Winfrey</td>\n",
       "      <td>1,598.27</td>\n",
       "    </tr>\n",
       "    <tr>\n",
       "      <th>12</th>\n",
       "      <td>Six of Crows</td>\n",
       "      <td>Leigh Bardugo</td>\n",
       "      <td>1,015.28</td>\n",
       "    </tr>\n",
       "    <tr>\n",
       "      <th>13</th>\n",
       "      <td>Atomic Habits</td>\n",
       "      <td>James Clear</td>\n",
       "      <td>1,465.50</td>\n",
       "    </tr>\n",
       "    <tr>\n",
       "      <th>14</th>\n",
       "      <td>Crooked Kingdom (Six of Crows Book 2)</td>\n",
       "      <td>Leigh Bardugo</td>\n",
       "      <td>1,005.63</td>\n",
       "    </tr>\n",
       "    <tr>\n",
       "      <th>15</th>\n",
       "      <td>Man's Search For Meaning</td>\n",
       "      <td>Viktor E Frankl</td>\n",
       "      <td>498.21</td>\n",
       "    </tr>\n",
       "    <tr>\n",
       "      <th>16</th>\n",
       "      <td>Shadow and Bone</td>\n",
       "      <td>Leigh Bardugo</td>\n",
       "      <td>1,390.18</td>\n",
       "    </tr>\n",
       "    <tr>\n",
       "      <th>17</th>\n",
       "      <td>The Body Keeps the Score</td>\n",
       "      <td>Bessel van der Kolk</td>\n",
       "      <td>1,034.59</td>\n",
       "    </tr>\n",
       "    <tr>\n",
       "      <th>18</th>\n",
       "      <td>Hamnet</td>\n",
       "      <td>Maggie O'Farrell</td>\n",
       "      <td>894.12</td>\n",
       "    </tr>\n",
       "    <tr>\n",
       "      <th>19</th>\n",
       "      <td>It Ends With Us</td>\n",
       "      <td>Colleen Hoover</td>\n",
       "      <td>862.66</td>\n",
       "    </tr>\n",
       "    <tr>\n",
       "      <th>20</th>\n",
       "      <td>Red, White &amp; Royal Blue</td>\n",
       "      <td>Casey Mcquiston</td>\n",
       "      <td>1,228.71</td>\n",
       "    </tr>\n",
       "    <tr>\n",
       "      <th>21</th>\n",
       "      <td>The Boy, The Mole, The Fox and The Horse</td>\n",
       "      <td>Charlie Mackesy</td>\n",
       "      <td>1,698.35</td>\n",
       "    </tr>\n",
       "    <tr>\n",
       "      <th>22</th>\n",
       "      <td>1984</td>\n",
       "      <td>George Orwell</td>\n",
       "      <td>710.18</td>\n",
       "    </tr>\n",
       "    <tr>\n",
       "      <th>23</th>\n",
       "      <td>We Were Liars</td>\n",
       "      <td>E. Lockhart</td>\n",
       "      <td>593.66</td>\n",
       "    </tr>\n",
       "    <tr>\n",
       "      <th>24</th>\n",
       "      <td>Spy x Family, Vol. 4</td>\n",
       "      <td>Tatsuya Endo</td>\n",
       "      <td>693.02</td>\n",
       "    </tr>\n",
       "    <tr>\n",
       "      <th>25</th>\n",
       "      <td>How To Do The Work</td>\n",
       "      <td>Nicole LePera</td>\n",
       "      <td>1,259.48</td>\n",
       "    </tr>\n",
       "    <tr>\n",
       "      <th>26</th>\n",
       "      <td>My Policeman</td>\n",
       "      <td>Bethan Roberts</td>\n",
       "      <td>835.86</td>\n",
       "    </tr>\n",
       "    <tr>\n",
       "      <th>27</th>\n",
       "      <td>The Song of Achilles</td>\n",
       "      <td>Madeline Miller</td>\n",
       "      <td>953.93</td>\n",
       "    </tr>\n",
       "    <tr>\n",
       "      <th>28</th>\n",
       "      <td>Criminal Deluxe Edition Volume 2</td>\n",
       "      <td>Ed Brubaker</td>\n",
       "      <td>3,007.68</td>\n",
       "    </tr>\n",
       "    <tr>\n",
       "      <th>29</th>\n",
       "      <td>Rule of Wolves (King of Scars Book 2)</td>\n",
       "      <td>Leigh Bardugo</td>\n",
       "      <td>1,667.67</td>\n",
       "    </tr>\n",
       "  </tbody>\n",
       "</table>\n",
       "</div>"
      ],
      "text/plain": [
       "                                      titles              authors    prices\n",
       "0                            Shadow and Bone        Leigh Bardugo    697.55\n",
       "1                       The Midnight Library            Matt Haig    751.91\n",
       "2           Shadow and Bone: Siege and Storm        Leigh Bardugo    847.75\n",
       "3           Shadow and Bone: Ruin and Rising        Leigh Bardugo    844.54\n",
       "4        Crooked Kingdom Collector's Edition        Leigh Bardugo  1,711.07\n",
       "5          The Seven Husbands of Evelyn Hugo  TAYLOR JENKINS REID    809.90\n",
       "6                    Where the Crawdads Sing          Delia Owens    772.86\n",
       "7                       Surrounded by Idiots       Thomas Erikson    921.36\n",
       "8                   Heartstopper Volume Four         ALICE OSEMAN  1,139.11\n",
       "9                   They Both Die at the End         Adam Silvera    804.54\n",
       "10                          Jujutsu Kaisen 0         Gege Akutami    660.85\n",
       "11                     What Happened to You?        Oprah Winfrey  1,598.27\n",
       "12                              Six of Crows        Leigh Bardugo  1,015.28\n",
       "13                             Atomic Habits          James Clear  1,465.50\n",
       "14     Crooked Kingdom (Six of Crows Book 2)        Leigh Bardugo  1,005.63\n",
       "15                  Man's Search For Meaning      Viktor E Frankl    498.21\n",
       "16                           Shadow and Bone        Leigh Bardugo  1,390.18\n",
       "17                  The Body Keeps the Score  Bessel van der Kolk  1,034.59\n",
       "18                                    Hamnet     Maggie O'Farrell    894.12\n",
       "19                           It Ends With Us       Colleen Hoover    862.66\n",
       "20                   Red, White & Royal Blue      Casey Mcquiston  1,228.71\n",
       "21  The Boy, The Mole, The Fox and The Horse      Charlie Mackesy  1,698.35\n",
       "22                                      1984        George Orwell    710.18\n",
       "23                             We Were Liars          E. Lockhart    593.66\n",
       "24                      Spy x Family, Vol. 4         Tatsuya Endo    693.02\n",
       "25                        How To Do The Work        Nicole LePera  1,259.48\n",
       "26                              My Policeman       Bethan Roberts    835.86\n",
       "27                      The Song of Achilles      Madeline Miller    953.93\n",
       "28          Criminal Deluxe Edition Volume 2          Ed Brubaker  3,007.68\n",
       "29     Rule of Wolves (King of Scars Book 2)        Leigh Bardugo  1,667.67"
      ]
     },
     "execution_count": 14,
     "metadata": {},
     "output_type": "execute_result"
    }
   ],
   "source": [
    "import pandas as pd\n",
    "d={'titles':[],'authors':[],'prices':[]}\n",
    "for i in range(1,35):\n",
    "    url=f\"https://www.bookdepository.com/bestsellers?page={i}\"\n",
    "    page=requests.get(url)\n",
    "    soup=BeautifulSoup(page.content,'html5lib')\n",
    "    all_books=soup.find_all(class_=\"book-item\")\n",
    "    for f in all_books:\n",
    "        d['titles'].append(f.find(class_=\"title\").get_text().strip())\n",
    "        d['authors'].append(f.find(class_=\"author\").get_text().strip())\n",
    "        d['prices'].append(f.find(class_=\"price-wrap\").get_text().strip().split('\\n')[0].lstrip('₹'))\n",
    "df=pd.DataFrame(d)\n",
    "df.head(30)"
   ]
  },
  {
   "cell_type": "code",
   "execution_count": 15,
   "metadata": {},
   "outputs": [
    {
     "data": {
      "text/plain": [
       "<bound method DataFrame.info of                                                  titles          authors  \\\n",
       "0                                       Shadow and Bone    Leigh Bardugo   \n",
       "1                                  The Midnight Library        Matt Haig   \n",
       "2                      Shadow and Bone: Siege and Storm    Leigh Bardugo   \n",
       "3                      Shadow and Bone: Ruin and Rising    Leigh Bardugo   \n",
       "4                   Crooked Kingdom Collector's Edition    Leigh Bardugo   \n",
       "...                                                 ...              ...   \n",
       "1015                                The Yamas & Niyamas    Deborah Adele   \n",
       "1016                                   And Still I Rise  Dr Maya Angelou   \n",
       "1017                                It's Not the Stork!  Robie H. Harris   \n",
       "1018                                         Dark Water   Robert Bryndza   \n",
       "1019  Harry Potter and the Cursed Child - Parts One ...     J.K. Rowling   \n",
       "\n",
       "        prices  \n",
       "0       697.55  \n",
       "1       751.91  \n",
       "2       847.75  \n",
       "3       844.54  \n",
       "4     1,711.07  \n",
       "...        ...  \n",
       "1015  NZ$19.58  \n",
       "1016  NZ$16.63  \n",
       "1017  NZ$23.81  \n",
       "1018  NZ$15.59  \n",
       "1019  NZ$17.22  \n",
       "\n",
       "[1020 rows x 3 columns]>"
      ]
     },
     "execution_count": 15,
     "metadata": {},
     "output_type": "execute_result"
    }
   ],
   "source": [
    "df.info"
   ]
  }
 ],
 "metadata": {
  "kernelspec": {
   "display_name": "Python 3",
   "language": "python",
   "name": "python3"
  },
  "language_info": {
   "codemirror_mode": {
    "name": "ipython",
    "version": 3
   },
   "file_extension": ".py",
   "mimetype": "text/x-python",
   "name": "python",
   "nbconvert_exporter": "python",
   "pygments_lexer": "ipython3",
   "version": "3.8.5"
  }
 },
 "nbformat": 4,
 "nbformat_minor": 4
}
